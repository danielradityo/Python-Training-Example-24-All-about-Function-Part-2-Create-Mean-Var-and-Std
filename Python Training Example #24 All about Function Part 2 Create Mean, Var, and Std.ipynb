{
 "cells": [
  {
   "cell_type": "markdown",
   "metadata": {},
   "source": [
    "# Python Training Example #24 All about Function Part 2 Create Mean, Var, and Std"
   ]
  },
  {
   "cell_type": "markdown",
   "metadata": {},
   "source": [
    "## Create Several Descriptive Statistics Function"
   ]
  },
  {
   "cell_type": "code",
   "execution_count": 2,
   "metadata": {},
   "outputs": [],
   "source": [
    "# Create several mark list\n",
    "mark1 = [60, 75, 85, 65, 70, 75, 90, 80, 85, 95]\n",
    "mark2 = [90, 95, 65, 85, 80, 60, 50, 65, 75, 80]\n",
    "mark3 = [75, 85, 65, 60, 60, 70, 80, 85, 90, 95]"
   ]
  },
  {
   "cell_type": "markdown",
   "metadata": {},
   "source": [
    "## Create Mean Statistics Function"
   ]
  },
  {
   "cell_type": "code",
   "execution_count": 5,
   "metadata": {},
   "outputs": [
    {
     "name": "stdout",
     "output_type": "stream",
     "text": [
      "Mean from Mark Class 1=  78.0\n",
      "Mean from Mark Class 2=  74.5\n",
      "Mean from Mark Class 3=  76.5\n"
     ]
    }
   ],
   "source": [
    "# Create def function mean\n",
    "def mean_mark(data):\n",
    "    total = 0                #--> use total as 0\n",
    "    for item in data:        #--> use looping\n",
    "        total += item\n",
    "    mean = total / len(data) #--> mean function\n",
    "    return mean\n",
    "print('Mean from Mark Class 1= ', mean_mark(mark1))\n",
    "print('Mean from Mark Class 2= ', mean_mark(mark2))\n",
    "print('Mean from Mark Class 3= ', mean_mark(mark3))"
   ]
  },
  {
   "cell_type": "markdown",
   "metadata": {},
   "source": [
    "## Create Variance Statistics Function"
   ]
  },
  {
   "cell_type": "code",
   "execution_count": 16,
   "metadata": {},
   "outputs": [
    {
     "name": "stdout",
     "output_type": "stream",
     "text": [
      "Variance from Mark Class 1=  29.4085714314\n",
      "Variance from Mark Class 2=  3.179920121775\n",
      "Variance from Mark Class 3=  36.121698369975\n"
     ]
    }
   ],
   "source": [
    "# Create def function Variance\n",
    "def var_mark(data):\n",
    "    means = mean_mark(data)\n",
    "    variance = 0\n",
    "    for item in data:\n",
    "        variance += (item - means) ** 2\n",
    "        variance /= len(data)\n",
    "    return variance\n",
    "print('Variance from Mark Class 1= ', var_mark(mark1))\n",
    "print('Variance from Mark Class 2= ', var_mark(mark2))\n",
    "print('Variance from Mark Class 3= ', var_mark(mark3))"
   ]
  },
  {
   "cell_type": "markdown",
   "metadata": {},
   "source": [
    "## Create Standart Deviation Statistics Function"
   ]
  },
  {
   "cell_type": "code",
   "execution_count": 19,
   "metadata": {},
   "outputs": [
    {
     "name": "stdout",
     "output_type": "stream",
     "text": [
      "Standart Deviation from Mark Class 1=  5.422967032114431\n",
      "Standart Deviation from Mark Class 2=  1.7832330531299043\n",
      "Standart Deviation from Mark Class 3=  6.0101329744004\n"
     ]
    }
   ],
   "source": [
    "# Create def function Standart Deviation\n",
    "def std_mark(data):\n",
    "    variances = var_mark(data)\n",
    "    for item in data:\n",
    "        standart_deviation = variances ** (1/2)\n",
    "    return standart_deviation\n",
    "print('Standart Deviation from Mark Class 1= ', std_mark(mark1))\n",
    "print('Standart Deviation from Mark Class 2= ', std_mark(mark2))\n",
    "print('Standart Deviation from Mark Class 3= ', std_mark(mark3))"
   ]
  }
 ],
 "metadata": {
  "kernelspec": {
   "display_name": "Python 3",
   "language": "python",
   "name": "python3"
  },
  "language_info": {
   "codemirror_mode": {
    "name": "ipython",
    "version": 3
   },
   "file_extension": ".py",
   "mimetype": "text/x-python",
   "name": "python",
   "nbconvert_exporter": "python",
   "pygments_lexer": "ipython3",
   "version": "3.8.5"
  }
 },
 "nbformat": 4,
 "nbformat_minor": 4
}
